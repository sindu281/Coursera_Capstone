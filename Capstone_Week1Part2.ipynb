{
 "cells": [
  {
   "cell_type": "markdown",
   "metadata": {},
   "source": [
    "## 2. Description of Data\n",
    "\n",
    "### 2.1 Data Collection\n",
    "\n",
    "This project requires three different sets of data to solve the business problem which is London's Crime data, the list of London boroughs and the different venues on the basis of amenities and essential facilities in the city. \n",
    "\n",
    "Data on London Recorded Crime  were extracted from the Metropolitan Police's Recorded Crime: Geographic Breakdown (https://data.london.gov.uk/dataset/recorded_crime_summary). This data comprises of fields such as Bourough Name, Type of Crime, the no.of crimes committed in each month from 01/08/2018 to 31/07/2020. The second set of data which is the list of London Bouroughs are extracted from Wikipedia (https://en.wikipedia.org/wiki/List_of_London_boroughs).Finally, to explore and target recommended locations across different venues according to the presence of amenities and essential facilities, we will access data through FourSquare API interface (https://api.foursquare.com) and arrange them as a dataframe for visualization. \n",
    "\n",
    "### 2.2 How the data helps solving the problem\n",
    "\n",
    "By merging data from the London Recorded crime, list of boroughs and data on amenities and essential facilities surrounding such properties from FourSquare API interface, we will be able to recommend profitable options for real-estate developers and safe housing situations for prospective students."
   ]
  }
 ],
 "metadata": {
  "kernelspec": {
   "display_name": "Python",
   "language": "python",
   "name": "conda-env-python-py"
  },
  "language_info": {
   "codemirror_mode": {
    "name": "ipython",
    "version": 3
   },
   "file_extension": ".py",
   "mimetype": "text/x-python",
   "name": "python",
   "nbconvert_exporter": "python",
   "pygments_lexer": "ipython3",
   "version": "3.6.11"
  }
 },
 "nbformat": 4,
 "nbformat_minor": 4
}
