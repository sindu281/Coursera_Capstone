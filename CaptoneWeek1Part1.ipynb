{
 "cells": [
  {
   "cell_type": "markdown",
   "metadata": {},
   "source": [
    "# The Battle of the Neighborhoods \n",
    "## To Find the best place to construct a student hall in London City  \n",
    "____________________________________________________________"
   ]
  },
  {
   "cell_type": "markdown",
   "metadata": {},
   "source": [
    "## 1.Introduction\n",
    "\n",
    "### 1.1 Backrground\n",
    "\n",
    "London is considered as one of the popular destinations for higher education where students from all around the world travel to pursue their educations.\n",
    "\n",
    "Overseas students are increasingly selecting London as their study destination of choice, with 2018-19 representing a record year for international students in the UK capital in the past decade.\n",
    "\n",
    "According to new data from the Higher Education Statistics Agency (HESA), the total number of international students grew 5.8%, representing an uplift in overseas students for the 6th consecutive year, reinforcing London’s reputation as a top Higher Education destination on the global stage.The total number of international students at London’s universities in 2018-19 is 125,035 which is a 5.8% rise from 2017-18 which demonstrates the UK capital’s growing appeal for prospective students.\n",
    "\n",
    "\n",
    "### 1.2 Business Problem\n",
    "\n",
    "International students face a major challenge of finding an accomodation when they move into a new city. In the UK, one of the most common and reliable housing for students are 'Student Halls'. However, it is not easy to secure a place in a student hall as they are in very high demand. Most of the student halls are owned by the Universities and some are privately constructed by real-estate developers. This project is to help one such real-estate developer to construct a student hall in the City of London. \n",
    "\n",
    "By exploring the different neighborhoods and boroughs in London City, options of a suitable and safe areas to build a student hall is given to the real-estate developer. Through this project, I aim to solve two persistant problems which is for an international student who look for a safe place to stay during their course of study and to a real-estate developer who is looking for a profitable opportunity to build a student hall.\n"
   ]
  },
  {
   "cell_type": "code",
   "execution_count": null,
   "metadata": {},
   "outputs": [],
   "source": []
  }
 ],
 "metadata": {
  "kernelspec": {
   "display_name": "Python",
   "language": "python",
   "name": "conda-env-python-py"
  },
  "language_info": {
   "codemirror_mode": {
    "name": "ipython",
    "version": 3
   },
   "file_extension": ".py",
   "mimetype": "text/x-python",
   "name": "python",
   "nbconvert_exporter": "python",
   "pygments_lexer": "ipython3",
   "version": "3.6.11"
  }
 },
 "nbformat": 4,
 "nbformat_minor": 4
}
